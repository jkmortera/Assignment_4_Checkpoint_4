{
    "cells": [
        {
            "attachments": {},
            "cell_type": "markdown",
            "metadata": {
                "azdata_cell_guid": "151601c9-ca7a-412e-af80-c62a87e0837e"
            },
            "source": [
                "# Checkpoint Two: Exploratory Data Analysis\n",
                "\n",
                "Now that your chosen dataset is approved, it is time to start working on your analysis. Use this notebook to perform your EDA and make notes where directed to as you work.\n",
                "\n",
                "## Getting Started\n",
                "\n",
                "Since we have not provided your dataset for you, you will need to load the necessary files in this repository. Make sure to include a link back to the original dataset here as well.\n",
                "\n",
                "My dataset:\n",
                "\n",
                "Your first task in EDA is to import necessary libraries and create a dataframe(s). Make note in the form of code comments of what your thought process is as you work on this setup task."
            ]
        },
        {
            "cell_type": "code",
            "execution_count": 16,
            "metadata": {
                "azdata_cell_guid": "7b503e37-6df5-4433-acfb-678b1346db14"
            },
            "outputs": [],
            "source": [
                "import pandas as pd\n",
                "import numpy as np\n",
                "import matplotlib\n",
                "import matplotlib.pyplot as plt\n",
                "\n",
                "imdb_df = pd.read_csv('imdb_top_1000.csv')"
            ]
        },
        {
            "attachments": {},
            "cell_type": "markdown",
            "metadata": {
                "azdata_cell_guid": "129ce836-524b-4ea8-b394-a959f9308d6a"
            },
            "source": [
                "## Get to Know the Numbers\n",
                "\n",
                "Now that you have everything setup, put any code that you use to get to know the dataframe and its rows and columns better in the cell below. You can use whatever techniques you like, except for visualizations. You will put those in a separate section.\n",
                "\n",
                "When working on your code, make sure to leave comments so that your mentors can understand your thought process."
            ]
        },
        {
            "cell_type": "code",
            "execution_count": 17,
            "metadata": {
                "azdata_cell_guid": "0ca2d318-f6e8-43ef-a33e-5304d24d928d",
                "tags": []
            },
            "outputs": [
                {
                    "data": {
                        "text/plain": [
                            "Index(['Poster_Link', 'Series_Title', 'Released_Year', 'Certificate',\n",
                            "       'Runtime', 'Genre', 'IMDB_Rating', 'Overview', 'Meta_score', 'Director',\n",
                            "       'Star1', 'Star2', 'Star3', 'Star4', 'No_of_Votes', 'Gross'],\n",
                            "      dtype='object')"
                        ]
                    },
                    "execution_count": 17,
                    "metadata": {},
                    "output_type": "execute_result"
                }
            ],
            "source": [
                "imdb_df.columns"
            ]
        },
        {
            "cell_type": "code",
            "execution_count": 18,
            "metadata": {},
            "outputs": [
                {
                    "name": "stdout",
                    "output_type": "stream",
                    "text": [
                        "Poster_Link       object\n",
                        "Series_Title      object\n",
                        "Released_Year     object\n",
                        "Certificate       object\n",
                        "Runtime           object\n",
                        "Genre             object\n",
                        "IMDB_Rating      float64\n",
                        "Overview          object\n",
                        "Meta_score       float64\n",
                        "Director          object\n",
                        "Star1             object\n",
                        "Star2             object\n",
                        "Star3             object\n",
                        "Star4             object\n",
                        "No_of_Votes        int64\n",
                        "Gross             object\n",
                        "dtype: object\n"
                    ]
                }
            ],
            "source": [
                "print(imdb_df.dtypes)"
            ]
        },
        {
            "cell_type": "code",
            "execution_count": 19,
            "metadata": {},
            "outputs": [
                {
                    "data": {
                        "text/html": [
                            "<div>\n",
                            "<style scoped>\n",
                            "    .dataframe tbody tr th:only-of-type {\n",
                            "        vertical-align: middle;\n",
                            "    }\n",
                            "\n",
                            "    .dataframe tbody tr th {\n",
                            "        vertical-align: top;\n",
                            "    }\n",
                            "\n",
                            "    .dataframe thead th {\n",
                            "        text-align: right;\n",
                            "    }\n",
                            "</style>\n",
                            "<table border=\"1\" class=\"dataframe\">\n",
                            "  <thead>\n",
                            "    <tr style=\"text-align: right;\">\n",
                            "      <th></th>\n",
                            "      <th>Poster_Link</th>\n",
                            "      <th>Series_Title</th>\n",
                            "      <th>Released_Year</th>\n",
                            "      <th>Certificate</th>\n",
                            "      <th>Runtime</th>\n",
                            "      <th>Genre</th>\n",
                            "      <th>IMDB_Rating</th>\n",
                            "      <th>Overview</th>\n",
                            "      <th>Meta_score</th>\n",
                            "      <th>Director</th>\n",
                            "      <th>Star1</th>\n",
                            "      <th>Star2</th>\n",
                            "      <th>Star3</th>\n",
                            "      <th>Star4</th>\n",
                            "      <th>No_of_Votes</th>\n",
                            "      <th>Gross</th>\n",
                            "    </tr>\n",
                            "  </thead>\n",
                            "  <tbody>\n",
                            "    <tr>\n",
                            "      <th>0</th>\n",
                            "      <td>https://m.media-amazon.com/images/M/MV5BMDFkYT...</td>\n",
                            "      <td>The Shawshank Redemption</td>\n",
                            "      <td>1994</td>\n",
                            "      <td>A</td>\n",
                            "      <td>142 min</td>\n",
                            "      <td>Drama</td>\n",
                            "      <td>9.3</td>\n",
                            "      <td>Two imprisoned men bond over a number of years...</td>\n",
                            "      <td>80.0</td>\n",
                            "      <td>Frank Darabont</td>\n",
                            "      <td>Tim Robbins</td>\n",
                            "      <td>Morgan Freeman</td>\n",
                            "      <td>Bob Gunton</td>\n",
                            "      <td>William Sadler</td>\n",
                            "      <td>2343110</td>\n",
                            "      <td>28,341,469</td>\n",
                            "    </tr>\n",
                            "    <tr>\n",
                            "      <th>1</th>\n",
                            "      <td>https://m.media-amazon.com/images/M/MV5BM2MyNj...</td>\n",
                            "      <td>The Godfather</td>\n",
                            "      <td>1972</td>\n",
                            "      <td>A</td>\n",
                            "      <td>175 min</td>\n",
                            "      <td>Crime, Drama</td>\n",
                            "      <td>9.2</td>\n",
                            "      <td>An organized crime dynasty's aging patriarch t...</td>\n",
                            "      <td>100.0</td>\n",
                            "      <td>Francis Ford Coppola</td>\n",
                            "      <td>Marlon Brando</td>\n",
                            "      <td>Al Pacino</td>\n",
                            "      <td>James Caan</td>\n",
                            "      <td>Diane Keaton</td>\n",
                            "      <td>1620367</td>\n",
                            "      <td>134,966,411</td>\n",
                            "    </tr>\n",
                            "    <tr>\n",
                            "      <th>2</th>\n",
                            "      <td>https://m.media-amazon.com/images/M/MV5BMTMxNT...</td>\n",
                            "      <td>The Dark Knight</td>\n",
                            "      <td>2008</td>\n",
                            "      <td>UA</td>\n",
                            "      <td>152 min</td>\n",
                            "      <td>Action, Crime, Drama</td>\n",
                            "      <td>9.0</td>\n",
                            "      <td>When the menace known as the Joker wreaks havo...</td>\n",
                            "      <td>84.0</td>\n",
                            "      <td>Christopher Nolan</td>\n",
                            "      <td>Christian Bale</td>\n",
                            "      <td>Heath Ledger</td>\n",
                            "      <td>Aaron Eckhart</td>\n",
                            "      <td>Michael Caine</td>\n",
                            "      <td>2303232</td>\n",
                            "      <td>534,858,444</td>\n",
                            "    </tr>\n",
                            "  </tbody>\n",
                            "</table>\n",
                            "</div>"
                        ],
                        "text/plain": [
                            "                                         Poster_Link  \\\n",
                            "0  https://m.media-amazon.com/images/M/MV5BMDFkYT...   \n",
                            "1  https://m.media-amazon.com/images/M/MV5BM2MyNj...   \n",
                            "2  https://m.media-amazon.com/images/M/MV5BMTMxNT...   \n",
                            "\n",
                            "               Series_Title Released_Year Certificate  Runtime  \\\n",
                            "0  The Shawshank Redemption          1994           A  142 min   \n",
                            "1             The Godfather          1972           A  175 min   \n",
                            "2           The Dark Knight          2008          UA  152 min   \n",
                            "\n",
                            "                  Genre  IMDB_Rating  \\\n",
                            "0                 Drama          9.3   \n",
                            "1          Crime, Drama          9.2   \n",
                            "2  Action, Crime, Drama          9.0   \n",
                            "\n",
                            "                                            Overview  Meta_score  \\\n",
                            "0  Two imprisoned men bond over a number of years...        80.0   \n",
                            "1  An organized crime dynasty's aging patriarch t...       100.0   \n",
                            "2  When the menace known as the Joker wreaks havo...        84.0   \n",
                            "\n",
                            "               Director           Star1           Star2          Star3  \\\n",
                            "0        Frank Darabont     Tim Robbins  Morgan Freeman     Bob Gunton   \n",
                            "1  Francis Ford Coppola   Marlon Brando       Al Pacino     James Caan   \n",
                            "2     Christopher Nolan  Christian Bale    Heath Ledger  Aaron Eckhart   \n",
                            "\n",
                            "            Star4  No_of_Votes        Gross  \n",
                            "0  William Sadler      2343110   28,341,469  \n",
                            "1    Diane Keaton      1620367  134,966,411  \n",
                            "2   Michael Caine      2303232  534,858,444  "
                        ]
                    },
                    "execution_count": 19,
                    "metadata": {},
                    "output_type": "execute_result"
                }
            ],
            "source": [
                "imdb_df.head(3)"
            ]
        },
        {
            "cell_type": "code",
            "execution_count": 20,
            "metadata": {},
            "outputs": [],
            "source": [
                "# removing unnecessary columns to reduce clutter\n",
                "imdb_main = imdb_df.drop(['Poster_Link', 'Certificate', 'No_of_Votes'], axis=1)\n",
                "\n",
                "\n"
            ]
        },
        {
            "cell_type": "code",
            "execution_count": 21,
            "metadata": {},
            "outputs": [
                {
                    "data": {
                        "text/plain": [
                            "Index(['Series_Title', 'Released_Year', 'Runtime', 'Genre', 'IMDB_Rating',\n",
                            "       'Overview', 'Meta_score', 'Director', 'Star1', 'Star2', 'Star3',\n",
                            "       'Star4', 'Gross'],\n",
                            "      dtype='object')"
                        ]
                    },
                    "execution_count": 21,
                    "metadata": {},
                    "output_type": "execute_result"
                }
            ],
            "source": [
                "imdb_main.columns"
            ]
        },
        {
            "attachments": {},
            "cell_type": "markdown",
            "metadata": {
                "azdata_cell_guid": "d45060f3-97bc-484a-9ef4-66145bbe9427"
            },
            "source": [
                "## Visualize\n",
                "\n",
                "Create any visualizations for your EDA here. Make note in the form of code comments of what your thought process is for your visualizations."
            ]
        },
        {
            "cell_type": "code",
            "execution_count": 22,
            "metadata": {
                "azdata_cell_guid": "f4565b03-759a-47a8-b58f-01b32a0b4b67"
            },
            "outputs": [
                {
                    "data": {
                        "text/plain": [
                            "Series_Title      object\n",
                            "Released_Year     object\n",
                            "Runtime           object\n",
                            "Genre             object\n",
                            "IMDB_Rating      float64\n",
                            "Overview          object\n",
                            "Meta_score       float64\n",
                            "Director          object\n",
                            "Star1             object\n",
                            "Star2             object\n",
                            "Star3             object\n",
                            "Star4             object\n",
                            "Gross             object\n",
                            "dtype: object"
                        ]
                    },
                    "execution_count": 22,
                    "metadata": {},
                    "output_type": "execute_result"
                }
            ],
            "source": [
                "# I wanted to find out if the average runtime by year has increased or decreased, but first\n",
                "# I had to convert the 'Released_Year' and 'Runtime' columns to int dtypes\n",
                "imdb_main.dtypes"
            ]
        },
        {
            "cell_type": "code",
            "execution_count": 23,
            "metadata": {},
            "outputs": [
                {
                    "name": "stdout",
                    "output_type": "stream",
                    "text": [
                        "['1994' '1972' '2008' '1974' '1957' '2003' '1993' '2010' '1999' '2001'\n",
                        " '1966' '2002' '1990' '1980' '1975' '2020' '2019' '2014' '1998' '1997'\n",
                        " '1995' '1991' '1977' '1962' '1954' '1946' '2011' '2006' '2000' '1988'\n",
                        " '1985' '1968' '1960' '1942' '1936' '1931' '2018' '2017' '2016' '2012'\n",
                        " '2009' '2007' '1984' '1981' '1979' '1971' '1963' '1964' '1950' '1940'\n",
                        " '2013' '2005' '2004' '1992' '1987' '1986' '1983' '1976' '1973' '1965'\n",
                        " '1959' '1958' '1952' '1948' '1944' '1941' '1927' '1921' '2015' '1996'\n",
                        " '1989' '1978' '1961' '1955' '1953' '1925' '1924' '1982' '1967' '1951'\n",
                        " '1949' '1939' '1937' '1934' '1928' '1926' '1920' '1970' '1969' '1956'\n",
                        " '1947' '1945' '1930' '1938' '1935' '1933' '1932' '1922' '1943' 'PG']\n"
                    ]
                }
            ],
            "source": [
                "year_values = imdb_main['Released_Year'].unique()\n",
                "print(year_values)"
            ]
        },
        {
            "cell_type": "code",
            "execution_count": 24,
            "metadata": {},
            "outputs": [
                {
                    "name": "stdout",
                    "output_type": "stream",
                    "text": [
                        "    Series_Title Released_Year  Runtime                      Genre  \\\n",
                        "966    Apollo 13            PG  140 min  Adventure, Drama, History   \n",
                        "\n",
                        "     IMDB_Rating                                           Overview  \\\n",
                        "966          7.6  NASA must devise a strategy to return Apollo 1...   \n",
                        "\n",
                        "     Meta_score    Director      Star1        Star2        Star3        Star4  \\\n",
                        "966        77.0  Ron Howard  Tom Hanks  Bill Paxton  Kevin Bacon  Gary Sinise   \n",
                        "\n",
                        "           Gross  \n",
                        "966  173,837,933  \n"
                    ]
                }
            ],
            "source": [
                "# I found a single row with a non-numerical value for the 'Released_Year' column, so I updated it\n",
                "\n",
                "print(imdb_main[imdb_main['Released_Year'] == 'PG'])"
            ]
        },
        {
            "cell_type": "code",
            "execution_count": 25,
            "metadata": {},
            "outputs": [],
            "source": [
                "imdb_main.loc[imdb_main['Released_Year'] == 'PG', 'Released_Year'] = '1995'"
            ]
        },
        {
            "cell_type": "code",
            "execution_count": 26,
            "metadata": {},
            "outputs": [
                {
                    "data": {
                        "text/plain": [
                            "Series_Title      object\n",
                            "Released_Year      int32\n",
                            "Runtime            int32\n",
                            "Genre             object\n",
                            "IMDB_Rating      float64\n",
                            "Overview          object\n",
                            "Meta_score       float64\n",
                            "Director          object\n",
                            "Star1             object\n",
                            "Star2             object\n",
                            "Star3             object\n",
                            "Star4             object\n",
                            "Gross             object\n",
                            "dtype: object"
                        ]
                    },
                    "execution_count": 26,
                    "metadata": {},
                    "output_type": "execute_result"
                }
            ],
            "source": [
                "# I am now able to convert both columns into an int\n",
                "imdb_main['Released_Year'] = imdb_main['Released_Year'].astype(int)\n",
                "imdb_main['Runtime'] = imdb_main['Runtime'].str.replace(' min', '').astype(int)\n",
                "\n",
                "imdb_main.dtypes"
            ]
        },
        {
            "cell_type": "code",
            "execution_count": 27,
            "metadata": {},
            "outputs": [
                {
                    "data": {
                        "text/html": [
                            "<div>\n",
                            "<style scoped>\n",
                            "    .dataframe tbody tr th:only-of-type {\n",
                            "        vertical-align: middle;\n",
                            "    }\n",
                            "\n",
                            "    .dataframe tbody tr th {\n",
                            "        vertical-align: top;\n",
                            "    }\n",
                            "\n",
                            "    .dataframe thead th {\n",
                            "        text-align: right;\n",
                            "    }\n",
                            "</style>\n",
                            "<table border=\"1\" class=\"dataframe\">\n",
                            "  <thead>\n",
                            "    <tr style=\"text-align: right;\">\n",
                            "      <th></th>\n",
                            "      <th>Released_Year</th>\n",
                            "      <th>Runtime</th>\n",
                            "    </tr>\n",
                            "  </thead>\n",
                            "  <tbody>\n",
                            "    <tr>\n",
                            "      <th>0</th>\n",
                            "      <td>1920</td>\n",
                            "      <td>76.000000</td>\n",
                            "    </tr>\n",
                            "    <tr>\n",
                            "      <th>1</th>\n",
                            "      <td>1921</td>\n",
                            "      <td>68.000000</td>\n",
                            "    </tr>\n",
                            "    <tr>\n",
                            "      <th>2</th>\n",
                            "      <td>1922</td>\n",
                            "      <td>94.000000</td>\n",
                            "    </tr>\n",
                            "    <tr>\n",
                            "      <th>3</th>\n",
                            "      <td>1924</td>\n",
                            "      <td>45.000000</td>\n",
                            "    </tr>\n",
                            "    <tr>\n",
                            "      <th>4</th>\n",
                            "      <td>1925</td>\n",
                            "      <td>85.000000</td>\n",
                            "    </tr>\n",
                            "    <tr>\n",
                            "      <th>...</th>\n",
                            "      <td>...</td>\n",
                            "      <td>...</td>\n",
                            "    </tr>\n",
                            "    <tr>\n",
                            "      <th>94</th>\n",
                            "      <td>2016</td>\n",
                            "      <td>123.642857</td>\n",
                            "    </tr>\n",
                            "    <tr>\n",
                            "      <th>95</th>\n",
                            "      <td>2017</td>\n",
                            "      <td>121.590909</td>\n",
                            "    </tr>\n",
                            "    <tr>\n",
                            "      <th>96</th>\n",
                            "      <td>2018</td>\n",
                            "      <td>128.105263</td>\n",
                            "    </tr>\n",
                            "    <tr>\n",
                            "      <th>97</th>\n",
                            "      <td>2019</td>\n",
                            "      <td>132.130435</td>\n",
                            "    </tr>\n",
                            "    <tr>\n",
                            "      <th>98</th>\n",
                            "      <td>2020</td>\n",
                            "      <td>126.666667</td>\n",
                            "    </tr>\n",
                            "  </tbody>\n",
                            "</table>\n",
                            "<p>99 rows × 2 columns</p>\n",
                            "</div>"
                        ],
                        "text/plain": [
                            "    Released_Year     Runtime\n",
                            "0            1920   76.000000\n",
                            "1            1921   68.000000\n",
                            "2            1922   94.000000\n",
                            "3            1924   45.000000\n",
                            "4            1925   85.000000\n",
                            "..            ...         ...\n",
                            "94           2016  123.642857\n",
                            "95           2017  121.590909\n",
                            "96           2018  128.105263\n",
                            "97           2019  132.130435\n",
                            "98           2020  126.666667\n",
                            "\n",
                            "[99 rows x 2 columns]"
                        ]
                    },
                    "execution_count": 27,
                    "metadata": {},
                    "output_type": "execute_result"
                }
            ],
            "source": [
                "yearly_avg_runtime = imdb_main.groupby('Released_Year').agg({'Runtime': 'mean'}).reset_index()\n",
                "yearly_avg_runtime"
            ]
        },
        {
            "cell_type": "code",
            "execution_count": 28,
            "metadata": {
                "azdata_cell_guid": "cd64bab1-db4c-4295-820d-c6464b653a3e"
            },
            "outputs": [
                {
                    "data": {
                        "text/plain": [
                            "<function matplotlib.pyplot.show(close=None, block=None)>"
                        ]
                    },
                    "execution_count": 28,
                    "metadata": {},
                    "output_type": "execute_result"
                },
                {
                    "data": {
                        "image/png": "[encoded data removed]",
                        "text/plain": [
                            "<Figure size 1600x800 with 1 Axes>"
                        ]
                    },
                    "metadata": {},
                    "output_type": "display_data"
                }
            ],
            "source": [
                "plt.figure(figsize=(16, 8))\n",
                "\n",
                "plt.bar(yearly_avg_runtime['Released_Year'], yearly_avg_runtime['Runtime'])\n",
                "\n",
                "plt.xticks(range(1920, 2021, 5))\n",
                "\n",
                "plt.title('Average Runtime by Year')\n",
                "plt.xlabel('Release Year')\n",
                "plt.ylabel('Average Runtime (minutes)')\n",
                "\n",
                "plt.show"
            ]
        },
        {
            "cell_type": "code",
            "execution_count": 29,
            "metadata": {},
            "outputs": [
                {
                    "data": {
                        "text/plain": [
                            "122.891"
                        ]
                    },
                    "execution_count": 29,
                    "metadata": {},
                    "output_type": "execute_result"
                }
            ],
            "source": [
                "# I wanted to see the overall average runtime for all movies\n",
                "overall_avg_runtime = imdb_main['Runtime'].mean()\n",
                "overall_avg_runtime"
            ]
        },
        {
            "cell_type": "code",
            "execution_count": 30,
            "metadata": {},
            "outputs": [],
            "source": [
                "# I would like to see the which directors had more than 4 films on this dataset, and include \n",
                "# the genres of those films by it's (primary) listed genre value to see the range of their works\n",
                "imdb_main['Primary_Genre'] = imdb_main['Genre'].str.split(',').str[0]\n",
                "\n",
                "\n",
                "dir_counts = imdb_main['Director'].value_counts()\n",
                "\n",
                "# Filtering out directors with less than 4 films in dataset\n",
                "directors_filter = dir_counts[dir_counts > 4].index.tolist()\n",
                "\n",
                "# Applying filter to original dataframe and organize the newly created data frame\n",
                "filtered_directors = imdb_main[imdb_main['Director'].isin(directors_filter)]\n",
                "\n",
                "target_directors = filtered_directors[['Director', 'Series_Title', 'Released_Year', 'Primary_Genre']]\n",
                "target_directors\n",
                "\n",
                "target_directors.to_csv('target_directors.csv')\n",
                "\n"
            ]
        },
        {
            "cell_type": "code",
            "execution_count": 31,
            "metadata": {},
            "outputs": [
                {
                    "ename": "NameError",
                    "evalue": "name 'pivot' is not defined",
                    "output_type": "error",
                    "traceback": [
                        "\u001b[1;31m---------------------------------------------------------------------------\u001b[0m",
                        "\u001b[1;31mNameError\u001b[0m                                 Traceback (most recent call last)",
                        "\u001b[1;32m~\\AppData\\Local\\Temp\\ipykernel_11172\\2567737154.py\u001b[0m in \u001b[0;36m<module>\u001b[1;34m\u001b[0m\n\u001b[1;32m----> 1\u001b[1;33m \u001b[0max\u001b[0m \u001b[1;33m=\u001b[0m \u001b[0mpivot\u001b[0m\u001b[1;33m.\u001b[0m\u001b[0mplot\u001b[0m\u001b[1;33m(\u001b[0m\u001b[0mkind\u001b[0m\u001b[1;33m=\u001b[0m\u001b[1;34m'bar'\u001b[0m\u001b[1;33m,\u001b[0m \u001b[0mstacked\u001b[0m\u001b[1;33m=\u001b[0m\u001b[1;32mTrue\u001b[0m\u001b[1;33m,\u001b[0m \u001b[0mcolor\u001b[0m\u001b[1;33m=\u001b[0m\u001b[1;33m[\u001b[0m\u001b[1;34m'red'\u001b[0m\u001b[1;33m,\u001b[0m \u001b[1;34m'orange'\u001b[0m\u001b[1;33m,\u001b[0m \u001b[1;34m'pink'\u001b[0m\u001b[1;33m,\u001b[0m \u001b[1;34m'yellow'\u001b[0m\u001b[1;33m,\u001b[0m \u001b[1;34m'green'\u001b[0m\u001b[1;33m,\u001b[0m \u001b[1;34m'cyan'\u001b[0m\u001b[1;33m,\u001b[0m \u001b[1;34m'blue'\u001b[0m\u001b[1;33m,\u001b[0m \u001b[1;34m'gray'\u001b[0m\u001b[1;33m,\u001b[0m \u001b[1;34m'black'\u001b[0m\u001b[1;33m,\u001b[0m \u001b[1;34m'purple'\u001b[0m\u001b[1;33m,\u001b[0m \u001b[1;34m'brown'\u001b[0m\u001b[1;33m,\u001b[0m \u001b[1;34m'olive'\u001b[0m\u001b[1;33m]\u001b[0m\u001b[1;33m,\u001b[0m \u001b[0mfigsize\u001b[0m\u001b[1;33m=\u001b[0m\u001b[1;33m(\u001b[0m\u001b[1;36m12\u001b[0m\u001b[1;33m,\u001b[0m\u001b[1;36m6\u001b[0m\u001b[1;33m)\u001b[0m\u001b[1;33m)\u001b[0m\u001b[1;33m\u001b[0m\u001b[1;33m\u001b[0m\u001b[0m\n\u001b[0m\u001b[0;32m      2\u001b[0m \u001b[1;33m\u001b[0m\u001b[0m\n\u001b[0;32m      3\u001b[0m \u001b[0max\u001b[0m\u001b[1;33m.\u001b[0m\u001b[0mset_xlabel\u001b[0m\u001b[1;33m(\u001b[0m\u001b[1;34m'Director'\u001b[0m\u001b[1;33m)\u001b[0m\u001b[1;33m\u001b[0m\u001b[1;33m\u001b[0m\u001b[0m\n\u001b[0;32m      4\u001b[0m \u001b[0max\u001b[0m\u001b[1;33m.\u001b[0m\u001b[0mset_ylabel\u001b[0m\u001b[1;33m(\u001b[0m\u001b[1;34m'Number of Series Titles'\u001b[0m\u001b[1;33m)\u001b[0m\u001b[1;33m\u001b[0m\u001b[1;33m\u001b[0m\u001b[0m\n\u001b[0;32m      5\u001b[0m \u001b[0max\u001b[0m\u001b[1;33m.\u001b[0m\u001b[0mset_title\u001b[0m\u001b[1;33m(\u001b[0m\u001b[1;34m'Number of Series Titles by Director and Primary Genre'\u001b[0m\u001b[1;33m)\u001b[0m\u001b[1;33m\u001b[0m\u001b[1;33m\u001b[0m\u001b[0m\n",
                        "\u001b[1;31mNameError\u001b[0m: name 'pivot' is not defined"
                    ]
                }
            ],
            "source": [
                "ax = pivot.plot(kind='bar', stacked=True, color=['red', 'orange', 'pink', 'yellow', 'green', 'cyan', 'blue', 'gray', 'black', 'purple', 'brown', 'olive'], figsize=(12,6))\n",
                "\n",
                "ax.set_xlabel('Director')\n",
                "ax.set_ylabel('Number of Series Titles')\n",
                "ax.set_title('Number of Series Titles by Director and Primary Genre')\n",
                "ax.legend(bbox_to_anchor=(1.01, 1), borderaxespad=0)\n",
                "plt.show()\n"
            ]
        },
        {
            "attachments": {},
            "cell_type": "markdown",
            "metadata": {
                "azdata_cell_guid": "d4931c0c-2c09-4ee1-95d4-73dd08c2f0a6"
            },
            "source": [
                "## Summarize Your Results\n",
                "\n",
                "With your EDA complete, answer the following questions.\n",
                "\n",
                "1. Was there anything surprising about your dataset? \n",
                "\n",
                "    - As someone into from all over the world and time periods, I was surprised to find directors in the final filter that I wasn't familiar with, and now I'd like to explore their filmography.\n",
                "    \n",
                "    - I also anticipated there to be greater disparancies in runtime throughout the years, but found out that the runtimes were fairly consistent, save for the early 1900s when film was a new medium and film was much more expensive!\n",
                "\n",
                "\n",
                "2. Do you have any concerns about your dataset?\n",
                "\n",
                "    - I wish there was a production cost column to delve into how a budgets correlate to ratings and box office returns. I think it's important to be able to tell whether or not once needs a huge investment for a great work of art.\n",
                "\n",
                "\n",
                "\n",
                "3. Is there anything you want to make note of for the next phase of your analysis, which is cleaning data? \n",
                "\n",
                "    - Keeping in mind that with even larger datasets, I may not be able to go back and fix values like I was able to with 'Released_Year'. I am going to have to make a decision whether or not to remove the value, or row all together."
            ]
        }
    ],
    "metadata": {
        "kernelspec": {
            "display_name": "Python 3",
            "language": "python",
            "name": "python3"
        },
        "language_info": {
            "codemirror_mode": {
                "name": "ipython",
                "version": 3
            },
            "file_extension": ".py",
            "mimetype": "text/x-python",
            "name": "python",
            "nbconvert_exporter": "python",
            "pygments_lexer": "ipython3",
            "version": "3.9.13"
        }
    },
    "nbformat": 4,
    "nbformat_minor": 2
}
